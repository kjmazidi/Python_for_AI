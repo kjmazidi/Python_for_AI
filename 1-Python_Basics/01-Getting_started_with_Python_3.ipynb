{
 "cells": [
  {
   "cell_type": "markdown",
   "metadata": {},
   "source": [
    "[![Open in Colab](https://colab.research.google.com/assets/colab-badge.svg)](https://colab.research.google.com/github/kjmazidi/Python_for_AI/blob/master/1-Python_Basics/01-Getting_started_with_Python_3.ipynb)"
   ]
  },
  {
   "cell_type": "markdown",
   "metadata": {},
   "source": [
    "# Python for AI\n",
    "### Getting Started with Python 3\n",
    "\n",
    "###### (c) 2024 KJG Mazidi, all rights reserved\n",
    "\n",
    "This overview of Python 3 assumes no prior knowledge of Python, just prior programming experience in some language. We are just scratching the surface of Python in this series of notebooks, covering just enough Python to enable you to start your own projects. You will learn more as you go.\n",
    "\n",
    "There are so many free resources for learning more about Python, including https://docs.python.org/3/tutorial/ but of course the best way to learn is to dive in!"
   ]
  },
  {
   "cell_type": "markdown",
   "metadata": {},
   "source": [
    "## Things to know about Python\n",
    "\n",
    "* how Python is run\n",
    "    * Python is an interpreted language\n",
    "    * source code is compiled into bytecode to be executed by the os\n",
    "    \n",
    "    \n",
    "* how data types are handled\n",
    "    * there are no type declarations like **int j;**\n",
    "    * types are checked dynamically at run time, not when code is compiled\n",
    "    * there are ways to check data types before production, which we will discuss later\n",
    "    \n",
    "    \n",
    "* sleek, readable syntax\n",
    "    * uses indents not { } to identify code blocks\n",
    "    * end of line is end of statement, no ; required\n",
    "    * tab/space wars: 4 spaces (but PyCharm and other IDEs fix tabs for you)\n",
    "    * underscore/camelCase wars: underscore preferred for variable names, camelCase for Objects\n",
    "    * case sensitive\n",
    "    * comments begin with #\n",
    "    \n",
    "    \n",
    "Regarding style, refer to [PEP8](https://www.python.org/dev/peps/pep-0008/) as the ultimate authority. But here [Hitchhiker's Guide to Python](https://docs.python-guide.org/writing/style/) is a more readable introduction to Python style.\n",
    "\n",
    "* significant changes from Versions 2-> 3 broke backward compatability\n",
    " \n",
    "One of the most noticable changes is the way that in Python 3, print must be written as a function.\n"
   ]
  },
  {
   "cell_type": "code",
   "execution_count": 20,
   "metadata": {},
   "outputs": [
    {
     "ename": "SyntaxError",
     "evalue": "Missing parentheses in call to 'print'. Did you mean print(x   # Python 2)? (<ipython-input-20-04a421d6e4ac>, line 2)",
     "output_type": "error",
     "traceback": [
      "\u001b[0;36m  File \u001b[0;32m\"<ipython-input-20-04a421d6e4ac>\"\u001b[0;36m, line \u001b[0;32m2\u001b[0m\n\u001b[0;31m    print x   # Python 2\u001b[0m\n\u001b[0m          ^\u001b[0m\n\u001b[0;31mSyntaxError\u001b[0m\u001b[0;31m:\u001b[0m Missing parentheses in call to 'print'. Did you mean print(x   # Python 2)?\n"
     ]
    }
   ],
   "source": [
    "x = 4\n",
    "print x   # Python 2\n",
    "print(x)  # Python 3"
   ]
  },
  {
   "cell_type": "markdown",
   "metadata": {},
   "source": [
    "One of the best ways to learn about Python is to play with it at the console/terminal.\n",
    "Type this at the console (aka terminal) and follow along with this notebook:\n",
    "\n",
    "```$python```\n",
    "\n",
    "or \n",
    "\n",
    "```$python3```\n",
    "\n",
    "You will see something similar to the following:\n",
    "\n",
    "```\n",
    "janicemazidi@MacBook-Pro ~ % python3\n",
    "Python 3.9.6 (default, Feb  3 2024, 15:58:27) \n",
    "[Clang 15.0.0 (clang-1500.3.9.4)] on darwin\n",
    "Type \"help\", \"copyright\", \"credits\" or \"license\" for more information.\n",
    ">>> \n",
    "```\n",
    "The \">>>\" is the Python prompt. Python is waiting for you to type something in. To get out of Python, type exit()\n",
    "\n",
    "Note that some Mac computers may contain Python 2. Think of this as supporting the operating system, and **do not** remove it. There is no problem having several versions of Python on your computer.\n",
    "\n",
    "### A caution\n",
    "\n",
    "You won't get very much out of just passively reading through this notebook. Learning is always an *active* process. Type along at the Python console or open a new notebook and type along. "
   ]
  },
  {
   "cell_type": "markdown",
   "metadata": {},
   "source": [
    "### Variables\n",
    "\n",
    "Think of Python variables as pointers to memory locations. The type of the variable is determined by its contents. Assign it to different contents, and it's a different type of variable, pointing to a different memory location. \n",
    "\n",
    "When you type a variable at the console, Python returns its value. We can also use the print() function to view the contents. "
   ]
  },
  {
   "cell_type": "code",
   "execution_count": 1,
   "metadata": {},
   "outputs": [
    {
     "name": "stdout",
     "output_type": "stream",
     "text": [
      "5\n",
      "a\n"
     ]
    }
   ],
   "source": [
    "v = 5      # v is an int\n",
    "print(v)\n",
    "v = 'a'    # now v is a string of length 1 (there is no char)\n",
    "print(v)\n"
   ]
  },
  {
   "cell_type": "markdown",
   "metadata": {},
   "source": [
    "What can you do with ints and strings? "
   ]
  },
  {
   "cell_type": "code",
   "execution_count": 2,
   "metadata": {},
   "outputs": [
    {
     "data": {
      "text/plain": [
       "6"
      ]
     },
     "execution_count": 2,
     "metadata": {},
     "output_type": "execute_result"
    }
   ],
   "source": [
    "v = 5\n",
    "v += 1   # Python doesn't have the ++ or -- operators\n",
    "v"
   ]
  },
  {
   "cell_type": "code",
   "execution_count": 3,
   "metadata": {},
   "outputs": [
    {
     "data": {
      "text/plain": [
       "'ab'"
      ]
     },
     "execution_count": 3,
     "metadata": {},
     "output_type": "execute_result"
    }
   ],
   "source": [
    "v = 'a'\n",
    "v += 'b'   # + is also used for concatenation\n",
    "v"
   ]
  },
  {
   "cell_type": "markdown",
   "metadata": {},
   "source": [
    "Don't be afraid to break stuff."
   ]
  },
  {
   "cell_type": "code",
   "execution_count": 4,
   "metadata": {},
   "outputs": [
    {
     "ename": "TypeError",
     "evalue": "can only concatenate str (not \"int\") to str",
     "output_type": "error",
     "traceback": [
      "\u001b[0;31m---------------------------------------------------------------------------\u001b[0m",
      "\u001b[0;31mTypeError\u001b[0m                                 Traceback (most recent call last)",
      "Cell \u001b[0;32mIn[4], line 1\u001b[0m\n\u001b[0;32m----> 1\u001b[0m v \u001b[38;5;241m+\u001b[39m\u001b[38;5;241m=\u001b[39m \u001b[38;5;241m1\u001b[39m  \u001b[38;5;66;03m# oops\u001b[39;00m\n\u001b[1;32m      2\u001b[0m v\n",
      "\u001b[0;31mTypeError\u001b[0m: can only concatenate str (not \"int\") to str"
     ]
    }
   ],
   "source": [
    "v += 1  # oops\n",
    "v\n"
   ]
  },
  {
   "cell_type": "markdown",
   "metadata": {},
   "source": [
    "To reinforce the idea that variables just point to locations, observe this:"
   ]
  },
  {
   "cell_type": "code",
   "execution_count": 5,
   "metadata": {},
   "outputs": [
    {
     "name": "stdout",
     "output_type": "stream",
     "text": [
      "0x1021c29b0 0x1021c29b0\n",
      "0x1021c29d0 0x1021c29b0\n"
     ]
    }
   ],
   "source": [
    "a = 5\n",
    "b = 5\n",
    "print(hex(id(a)), hex(id(b)))  # a and b point to same location\n",
    "a += 1\n",
    "print(hex(id(a)), hex(id(b)))  # now they don't"
   ]
  },
  {
   "cell_type": "markdown",
   "metadata": {},
   "source": [
    "### Types\n",
    "\n",
    "Common data types include:\n",
    "* int (non-limited length)\n",
    "* float (same as a C double)\n",
    "* complex\n",
    "* boolean (built-in values are True, False)\n",
    "\n",
    "Many other types such as sequence types like:\n",
    "* string ('single' or \"double\" quotes)"
   ]
  },
  {
   "cell_type": "markdown",
   "metadata": {},
   "source": [
    "##### Console input and output\n",
    "\n",
    "* print() for console output\n",
    "* input(\"prompt\") for console input"
   ]
  },
  {
   "cell_type": "code",
   "execution_count": 3,
   "metadata": {},
   "outputs": [
    {
     "name": "stdout",
     "output_type": "stream",
     "text": [
      "What's your name?  Karen\n"
     ]
    },
    {
     "name": "stdout",
     "output_type": "stream",
     "text": [
      "Hello  Karen !\n",
      "Hello Karen!\n"
     ]
    }
   ],
   "source": [
    "name = input(\"What's your name? \")\n",
    "print('Hello ', name, '!')  # notice that , list adds spaces\n",
    "print('Hello '+ name + '!')"
   ]
  },
  {
   "cell_type": "markdown",
   "metadata": {},
   "source": [
    "#### Practice\n",
    "\n",
    "Write some code to input a circle radius from the user, then calculate and display the area. Hints:\n",
    "* the Python exponent operator is **\n",
    "* convert a string to a number with int() or float() like this:\n",
    "\n",
    "```radius = float(radius)```"
   ]
  },
  {
   "cell_type": "code",
   "execution_count": 4,
   "metadata": {},
   "outputs": [],
   "source": [
    "# your code here\n"
   ]
  },
  {
   "cell_type": "markdown",
   "metadata": {},
   "source": [
    "## More practice\n",
    "\n",
    "Write a Python program to get two integer values from the user and output the average."
   ]
  },
  {
   "cell_type": "code",
   "execution_count": 5,
   "metadata": {},
   "outputs": [],
   "source": [
    "# your code here\n"
   ]
  },
  {
   "cell_type": "code",
   "execution_count": null,
   "metadata": {},
   "outputs": [],
   "source": []
  }
 ],
 "metadata": {
  "kernelspec": {
   "display_name": "Python 3",
   "language": "python",
   "name": "python3"
  },
  "language_info": {
   "codemirror_mode": {
    "name": "ipython",
    "version": 3
   },
   "file_extension": ".py",
   "mimetype": "text/x-python",
   "name": "python",
   "nbconvert_exporter": "python",
   "pygments_lexer": "ipython3",
   "version": "3.9.6"
  }
 },
 "nbformat": 4,
 "nbformat_minor": 4
}
