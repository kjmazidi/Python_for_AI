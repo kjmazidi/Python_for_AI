{
 "cells": [
  {
   "cell_type": "markdown",
   "metadata": {
    "nteract": {
     "transient": {
      "deleting": false
     }
    }
   },
   "source": [
    "### Python Decorators\n",
    "\n",
    "Decorators are an elegant way to add functionality to code. This notebooks shows how to use decorators and discusses how and why they work.\n",
    "\n",
    "Keep in mind that everything in Python is an object: variables, functions, classes, everything. A decorator is one more type of object. Decorators are callable objects, just a functions are callable objects. Python supports function decorators and class decorators. \n",
    "\n",
    "#### Function decorators\n",
    "\n",
    "Here is the syntax:\n",
    "\n",
    "```\n",
    "@some_decorator\n",
    "def some_function():\n",
    "   # function code here\n",
    "   \n",
    "the above is the same as this:\n",
    "\n",
    "def some_function():\n",
    "   # function code here\n",
    "\n",
    "another_function = some_decorator(some_function)\n",
    "   \n",
    "```\n",
    "\n",
    "The first 3 lines of code above show the syntax for adding a decorator to the fuction, just put '@decorator_name' on top of the function like icing on the cake.\n",
    "\n",
    "The last 3 lines of code below show what the decorator does. A decorator takes the decorated function as input to the decorator function, not defined above. Let's do a simple example. "
   ]
  },
  {
   "cell_type": "code",
   "execution_count": 20,
   "metadata": {
    "nteract": {
     "transient": {
      "deleting": false
     }
    }
   },
   "outputs": [],
   "source": [
    "def make_log(func):\n",
    "    def wrapper(* args, **kwargs):\n",
    "        with open('log.txt', 'a') as f:\n",
    "            f.write('Called function (' + ' '.join([str(arg) for arg in args]))\n",
    "        return func(*args, **kwargs)\n",
    "    return wrapper\n",
    "              "
   ]
  },
  {
   "cell_type": "code",
   "execution_count": 21,
   "metadata": {
    "nteract": {
     "transient": {
      "deleting": false
     }
    }
   },
   "outputs": [],
   "source": [
    "@make_log\n",
    "def add_stuff(a, b, c=9):\n",
    "    result = a + b + c\n",
    "    print(result)\n",
    "  \n"
   ]
  },
  {
   "cell_type": "code",
   "execution_count": 22,
   "metadata": {
    "nteract": {
     "transient": {
      "deleting": false
     }
    }
   },
   "outputs": [
    {
     "name": "stdout",
     "output_type": "stream",
     "text": [
      "12\n"
     ]
    }
   ],
   "source": [
    "add_stuff(1, 2, c=9)"
   ]
  },
  {
   "cell_type": "code",
   "execution_count": 15,
   "metadata": {
    "nteract": {
     "transient": {
      "deleting": false
     }
    }
   },
   "outputs": [
    {
     "name": "stdout",
     "output_type": "stream",
     "text": [
      "None\n"
     ]
    }
   ],
   "source": [
    "print(add_stuff)"
   ]
  },
  {
   "cell_type": "code",
   "execution_count": 17,
   "metadata": {},
   "outputs": [
    {
     "name": "stdout",
     "output_type": "stream",
     "text": [
      "<function add_stuff at 0x7fea666a1040>\n"
     ]
    }
   ],
   "source": [
    "def add_stuff(a, b, c=9):\n",
    "    print('f1')\n",
    "print(add_stuff)"
   ]
  },
  {
   "cell_type": "markdown",
   "metadata": {},
   "source": [
    "### Functions are objects\n",
    "\n",
    "The toy example below shows how functions are just objects, and they can be passed into other functions as arguments.\n",
    "\n",
    "The print_checkpoint function just prints the word checkpoint and a thing.\n",
    "\n",
    "The compute_nonsense function accepts a function f as an argument, computes some nonsense, and they calls f() to print the nonsense. \n",
    "\n",
    "Certainly there are better ways to trace values in a program, but the purpose here is to pass a function to another function as an argument. "
   ]
  },
  {
   "cell_type": "code",
   "execution_count": 25,
   "metadata": {},
   "outputs": [
    {
     "name": "stdout",
     "output_type": "stream",
     "text": [
      "checkpoint: 3\n"
     ]
    }
   ],
   "source": [
    "def print_checkpoint(thing):\n",
    "    print('checkpoint:', thing)\n",
    "    \n",
    "def compute_nonsense(f):\n",
    "    nonsense = 2 * 4 - 5\n",
    "    f(nonsense)\n",
    "\n",
    "compute_nonsense(print_checkpoint)"
   ]
  },
  {
   "cell_type": "markdown",
   "metadata": {},
   "source": [
    "#### Wrapper functions\n",
    "\n",
    "didn't finish\n",
    "\n",
    "https://www.youtube.com/watch?v=r7Dtus7N4pI\n"
   ]
  },
  {
   "cell_type": "code",
   "execution_count": null,
   "metadata": {},
   "outputs": [],
   "source": [
    "def print_checkpoint(thing):\n",
    "    print('checkpoint:', thing)\n",
    "    \n",
    "def compute_nonsense(f):\n",
    "    nonsense = 2 * 4 - 5\n",
    "    f(nonsense)\n",
    "\n",
    "compute_nonsense(print_checkpoint)"
   ]
  }
 ],
 "metadata": {
  "kernel_info": {
   "name": "python3"
  },
  "kernelspec": {
   "display_name": "Python 3",
   "language": "python",
   "name": "python3"
  },
  "language_info": {
   "codemirror_mode": {
    "name": "ipython",
    "version": 3
   },
   "file_extension": ".py",
   "mimetype": "text/x-python",
   "name": "python",
   "nbconvert_exporter": "python",
   "pygments_lexer": "ipython3",
   "version": "3.8.2"
  },
  "nteract": {
   "version": "0.27.0"
  }
 },
 "nbformat": 4,
 "nbformat_minor": 4
}
